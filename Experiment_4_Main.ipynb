{
  "nbformat": 4,
  "nbformat_minor": 0,
  "metadata": {
    "colab": {
      "provenance": []
    },
    "kernelspec": {
      "name": "python3",
      "display_name": "Python 3"
    },
    "language_info": {
      "name": "python"
    }
  },
  "cells": [
    {
      "cell_type": "markdown",
      "source": [
        "This code incorporates architectures from Experiment files 1-3 into a single file. "
      ],
      "metadata": {
        "id": "lhwDJhDAE_zv"
      }
    },
    {
      "cell_type": "code",
      "execution_count": null,
      "metadata": {
        "colab": {
          "base_uri": "https://localhost:8080/"
        },
        "id": "42-n0BzYILo5",
        "outputId": "45542ce0-90d1-4394-810b-681d7526b0b1"
      },
      "outputs": [
        {
          "output_type": "stream",
          "name": "stdout",
          "text": [
            "Looking in indexes: https://pypi.org/simple, https://us-python.pkg.dev/colab-wheels/public/simple/\n",
            "Requirement already satisfied: torch in /usr/local/lib/python3.9/dist-packages (2.0.0+cu118)\n",
            "Requirement already satisfied: torchvision in /usr/local/lib/python3.9/dist-packages (0.15.1+cu118)\n",
            "Requirement already satisfied: jinja2 in /usr/local/lib/python3.9/dist-packages (from torch) (3.1.2)\n",
            "Requirement already satisfied: typing-extensions in /usr/local/lib/python3.9/dist-packages (from torch) (4.5.0)\n",
            "Requirement already satisfied: triton==2.0.0 in /usr/local/lib/python3.9/dist-packages (from torch) (2.0.0)\n",
            "Requirement already satisfied: sympy in /usr/local/lib/python3.9/dist-packages (from torch) (1.11.1)\n",
            "Requirement already satisfied: filelock in /usr/local/lib/python3.9/dist-packages (from torch) (3.10.7)\n",
            "Requirement already satisfied: networkx in /usr/local/lib/python3.9/dist-packages (from torch) (3.0)\n",
            "Requirement already satisfied: lit in /usr/local/lib/python3.9/dist-packages (from triton==2.0.0->torch) (16.0.0)\n",
            "Requirement already satisfied: cmake in /usr/local/lib/python3.9/dist-packages (from triton==2.0.0->torch) (3.25.2)\n",
            "Requirement already satisfied: numpy in /usr/local/lib/python3.9/dist-packages (from torchvision) (1.22.4)\n",
            "Requirement already satisfied: pillow!=8.3.*,>=5.3.0 in /usr/local/lib/python3.9/dist-packages (from torchvision) (8.4.0)\n",
            "Requirement already satisfied: requests in /usr/local/lib/python3.9/dist-packages (from torchvision) (2.27.1)\n",
            "Requirement already satisfied: MarkupSafe>=2.0 in /usr/local/lib/python3.9/dist-packages (from jinja2->torch) (2.1.2)\n",
            "Requirement already satisfied: urllib3<1.27,>=1.21.1 in /usr/local/lib/python3.9/dist-packages (from requests->torchvision) (1.26.15)\n",
            "Requirement already satisfied: idna<4,>=2.5 in /usr/local/lib/python3.9/dist-packages (from requests->torchvision) (3.4)\n",
            "Requirement already satisfied: charset-normalizer~=2.0.0 in /usr/local/lib/python3.9/dist-packages (from requests->torchvision) (2.0.12)\n",
            "Requirement already satisfied: certifi>=2017.4.17 in /usr/local/lib/python3.9/dist-packages (from requests->torchvision) (2022.12.7)\n",
            "Requirement already satisfied: mpmath>=0.19 in /usr/local/lib/python3.9/dist-packages (from sympy->torch) (1.3.0)\n",
            "Using device: cpu\n"
          ]
        }
      ],
      "source": [
        "!pip install torch torchvision\n",
        "\n",
        "import torch\n",
        "import torchvision\n",
        "import torchvision.transforms as transforms\n",
        "import torch.nn as nn\n",
        "import torch.optim as optim\n",
        "import numpy as np\n",
        "\n",
        "# Check if CUDA is available and set the device\n",
        "device = torch.device(\"cuda\" if torch.cuda.is_available() else \"cpu\")\n",
        "print(\"Using device:\", device)\n"
      ]
    },
    {
      "cell_type": "code",
      "source": [
        "import os\n",
        "from torchvision.datasets import ImageFolder\n",
        "from google.colab import drive\n",
        "drive.mount('/content/drive')\n",
        "from torch.utils.data import DataLoader\n",
        "\n",
        "data_dir = \"/content/drive/MyDrive/Neuro140/FinalProject/Data/\"\n",
        "\n",
        "class CustomImageDataset(ImageFolder):\n",
        "    def __init__(self, root, transform=None, target_transform=None):\n",
        "        super(CustomImageDataset, self).__init__(root, transform=transform, target_transform=target_transform)\n",
        "\n",
        "def create_dataloaders(train_root, val_root, test_root, batch_size):\n",
        "    transform = transforms.Compose([\n",
        "        transforms.Resize((32, 32)),\n",
        "        transforms.ToTensor(),\n",
        "        transforms.Normalize((0.5, 0.5, 0.5), (0.5, 0.5, 0.5))\n",
        "    ])\n",
        "\n",
        "    train_dataset = CustomImageDataset(train_root, transform=transform)\n",
        "    val_dataset = CustomImageDataset(val_root, transform=transform)\n",
        "    test_dataset = CustomImageDataset(test_root, transform = transform)\n",
        "\n",
        "    train_loader = DataLoader(train_dataset, batch_size=batch_size, shuffle=True, num_workers=2)\n",
        "    val_loader = DataLoader(val_dataset, batch_size=batch_size, shuffle=False, num_workers=2)\n",
        "    test_loader = DataLoader(test_dataset, batch_size=batch_size, shuffle=False, num_workers=2)\n",
        "\n",
        "    return train_loader, val_loader, test_loader\n",
        "\n",
        "train_root = data_dir + \"train\"\n",
        "val_root = data_dir + \"valid\"\n",
        "test_root = data_dir + \"test\"\n",
        "train_loader, val_loader, test_loader = create_dataloaders(train_root, val_root, test_root, batch_size=10)\n"
      ],
      "metadata": {
        "colab": {
          "base_uri": "https://localhost:8080/"
        },
        "id": "1XLOduADqCoQ",
        "outputId": "75250371-cc2b-4ad0-f45f-735460323733"
      },
      "execution_count": null,
      "outputs": [
        {
          "output_type": "stream",
          "name": "stdout",
          "text": [
            "Mounted at /content/drive\n"
          ]
        }
      ]
    },
    {
      "cell_type": "code",
      "source": [
        "print(f\"Number of classes in train dataset: {len(train_loader.dataset.class_to_idx)}\")\n",
        "print(f\"Number of classes in validation dataset: {len(val_loader.dataset.class_to_idx)}\")\n",
        "print(f\"Number of classes in test dataset: {len(test_loader.dataset.class_to_idx)}\")\n",
        "print(f\"Class-to-index mapping in train dataset: {train_loader.dataset.class_to_idx}\")\n",
        "print(f\"Class-to-index mapping in validation dataset: {val_loader.dataset.class_to_idx}\")\n",
        "print(f\"Class-to-index mapping in test dataset: {test_loader.dataset.class_to_idx}\")"
      ],
      "metadata": {
        "colab": {
          "base_uri": "https://localhost:8080/"
        },
        "id": "mRNE9Q_pq8se",
        "outputId": "a54134d1-3863-4b82-ee7c-a3a6d7ee44e8"
      },
      "execution_count": null,
      "outputs": [
        {
          "output_type": "stream",
          "name": "stdout",
          "text": [
            "Number of classes in train dataset: 2\n",
            "Number of classes in validation dataset: 2\n",
            "Number of classes in test dataset: 2\n",
            "Class-to-index mapping in train dataset: {'Cars': 0, 'Dogs': 1}\n",
            "Class-to-index mapping in validation dataset: {'Cars': 0, 'Dogs': 1}\n",
            "Class-to-index mapping in test dataset: {'Cars': 0, 'Dogs': 1}\n"
          ]
        }
      ]
    },
    {
      "cell_type": "code",
      "source": [
        "class ToyCNN(nn.Module):\n",
        "    def __init__(self, num_classes=2):\n",
        "        super(ToyCNN, self).__init__()\n",
        "        self.conv1 = nn.Conv2d(3, 6, 5)\n",
        "        self.pool = nn.MaxPool2d(2, 2)\n",
        "        self.conv2 = nn.Conv2d(6, 16, 5)\n",
        "        self.fc1 = nn.Linear(16 * 5 * 5, 120)\n",
        "        self.fc2 = nn.Linear(120, 84)\n",
        "        self.fc3 = nn.Linear(84, num_classes)\n",
        "\n",
        "    def forward(self, x):\n",
        "        x = self.pool(F.relu(self.conv1(x)))\n",
        "        x = self.pool(F.relu(self.conv2(x)))\n",
        "        x = x.view(-1, 16 * 5 * 5)\n",
        "        x = F.relu(self.fc1(x))\n",
        "        x = F.relu(self.fc2(x))\n",
        "        x = self.fc3(x)\n",
        "        return x\n",
        "\n",
        "net = ToyCNN().to(device)\n"
      ],
      "metadata": {
        "id": "2USmPpPSMMWT"
      },
      "execution_count": null,
      "outputs": []
    },
    {
      "cell_type": "code",
      "source": [
        "criterion = nn.CrossEntropyLoss()\n",
        "optimizer = optim.SGD(net.parameters(), lr=0.01, momentum=0.9)\n"
      ],
      "metadata": {
        "id": "hNS1XVzwMMeo"
      },
      "execution_count": null,
      "outputs": []
    },
    {
      "cell_type": "code",
      "source": [
        "import torch.nn.functional as F\n",
        "\n",
        "def train(net, train_loader, num_classes, optimizer, device, criterion):\n",
        "    net.train()\n",
        "    running_loss = 0.0\n",
        "\n",
        "    for i, (inputs, labels) in enumerate(train_loader):\n",
        "        inputs, labels = inputs.to(device), labels.to(device)\n",
        "\n",
        "        # Print labels for debugging\n",
        "        if i%100 == 0:\n",
        "            print(f\"Iteration {i}: Labels: {labels}\")\n",
        "\n",
        "        optimizer.zero_grad()\n",
        "\n",
        "        outputs = net(inputs)\n",
        "        loss = criterion(outputs, labels)\n",
        "        loss.backward()\n",
        "        optimizer.step()\n",
        "\n",
        "        running_loss += loss.item()\n",
        "\n",
        "    train_loss = running_loss / len(train_loader)\n",
        "    return train_loss\n",
        "\n",
        "def validate(net, val_loader, criterion, device):\n",
        "    net.eval()\n",
        "    total = 0\n",
        "    correct = 0\n",
        "    running_loss = 0.0\n",
        "\n",
        "    with torch.no_grad():\n",
        "        for i, (inputs, labels) in enumerate(val_loader):\n",
        "            inputs, labels = inputs.to(device), labels.to(device)\n",
        "\n",
        "            # Print labels for debugging\n",
        "            if i%100 == 0:\n",
        "                print(f\"Iteration {i}: Labels: {labels}\")\n",
        "\n",
        "            outputs = net(inputs)\n",
        "            #_, predicted = torch.max(outputs, 1)\n",
        "\n",
        "            #total += labels.size(0)\n",
        "            #correct += (predicted == labels).sum().item()\n",
        "\n",
        "    #accuracy = correct / total\n",
        "    #return accuracy\n",
        "            loss = criterion(outputs, labels)\n",
        "            running_loss += loss.item()\n",
        "    \n",
        "    val_loss = running_loss / len(val_loader)\n",
        "    return val_loss\n",
        "\n",
        "num_classes = 2\n",
        "num_epochs = 2\n",
        "for epoch in range(num_epochs):\n",
        "    train_loss = train(net, train_loader, num_classes, optimizer, device, criterion)\n",
        "    val_loss = validate(net, val_loader, criterion, device)\n",
        "    print(f\"Epoch {epoch + 1}, Train Loss: {train_loss:.4f}, Validation Loss: {val_loss:.4f}\")"
      ],
      "metadata": {
        "colab": {
          "base_uri": "https://localhost:8080/"
        },
        "id": "7fCEEOIgMMhq",
        "outputId": "f7295601-b404-40e8-a424-015c0225799d"
      },
      "execution_count": null,
      "outputs": [
        {
          "output_type": "stream",
          "name": "stdout",
          "text": [
            "Iteration 0: Labels: tensor([1, 1, 1, 1, 1, 0, 1, 0, 1, 1])\n",
            "Iteration 100: Labels: tensor([0, 1, 1, 0, 1, 1, 1, 1, 1, 1])\n",
            "Iteration 200: Labels: tensor([1, 1, 1, 0, 1, 1, 1, 1, 1, 1])\n",
            "Iteration 300: Labels: tensor([1, 1, 1, 1, 1, 1, 1, 1, 1, 0])\n",
            "Iteration 400: Labels: tensor([1, 0, 0, 1, 1, 1, 0, 1, 1, 1])\n",
            "Iteration 500: Labels: tensor([1, 1, 1, 0, 1, 1, 1, 1, 1, 1])\n",
            "Iteration 600: Labels: tensor([1, 0, 1, 1, 1, 1, 1, 1, 1, 1])\n",
            "Iteration 700: Labels: tensor([0, 1, 1, 1, 1, 1, 1, 1, 1, 1])\n",
            "Iteration 0: Labels: tensor([0, 0, 0, 0, 0, 0, 0, 0, 0, 0])\n",
            "Iteration 100: Labels: tensor([1, 1, 1, 1, 1, 1, 1, 1, 1, 1])\n",
            "Epoch 1, Train Loss: 0.3146, Validation Loss: 0.1377\n",
            "Iteration 0: Labels: tensor([1, 0, 0, 1, 0, 0, 1, 0, 1, 1])\n",
            "Iteration 100: Labels: tensor([1, 1, 1, 0, 1, 1, 1, 0, 1, 1])\n",
            "Iteration 200: Labels: tensor([1, 1, 1, 1, 1, 0, 1, 1, 1, 1])\n",
            "Iteration 300: Labels: tensor([1, 1, 1, 1, 1, 1, 1, 1, 1, 1])\n",
            "Iteration 400: Labels: tensor([1, 1, 1, 1, 1, 1, 1, 1, 1, 0])\n",
            "Iteration 500: Labels: tensor([1, 1, 0, 0, 1, 1, 1, 0, 1, 1])\n",
            "Iteration 600: Labels: tensor([1, 1, 1, 1, 1, 1, 1, 1, 1, 0])\n",
            "Iteration 700: Labels: tensor([0, 1, 1, 1, 1, 1, 1, 1, 1, 1])\n",
            "Iteration 0: Labels: tensor([0, 0, 0, 0, 0, 0, 0, 0, 0, 0])\n",
            "Iteration 100: Labels: tensor([1, 1, 1, 1, 1, 1, 1, 1, 1, 1])\n",
            "Epoch 2, Train Loss: 0.1289, Validation Loss: 0.1007\n"
          ]
        }
      ]
    },
    {
      "cell_type": "code",
      "source": [
        "#Polysemanticity measure based on 'Engineering Monosemanticity in Toy Models' code\n",
        "def measure_polysemanticity(layer):\n",
        "    activations = []\n",
        "\n",
        "    def hook(module, input, output):\n",
        "        activations.append(output)\n",
        "\n",
        "    hook_handle = layer.register_forward_hook(hook)\n",
        "\n",
        "    # Pass a batch of images through the network\n",
        "    with torch.no_grad():\n",
        "        for images, _ in test_loader:\n",
        "            images = images.to(device)\n",
        "            _ = net(images)\n",
        "\n",
        "    hook_handle.remove()\n",
        "\n",
        "    # Calculate mean activations for each neuron\n",
        "    mean_activations = [torch.mean(a, dim=(0, 2, 3)).cpu().numpy() for a in activations]\n",
        "    mean_activations = np.stack(mean_activations).mean(axis=0)\n",
        "\n",
        "    return mean_activations\n",
        "\n",
        "conv1_polysemanticity = measure_polysemanticity(net.conv1)\n",
        "conv2_polysemanticity = measure_polysemanticity(net.conv2)\n",
        "\n",
        "print(\"Conv1 Polysemanticity:\", conv1_polysemanticity)\n",
        "print(\"Conv2 Polysemanticity:\", conv2_polysemanticity)\n"
      ],
      "metadata": {
        "colab": {
          "base_uri": "https://localhost:8080/"
        },
        "id": "8Ld-3LIjMb1Q",
        "outputId": "e78a7d0e-ed71-4b14-97b6-10f23f46da9c"
      },
      "execution_count": null,
      "outputs": [
        {
          "output_type": "stream",
          "name": "stdout",
          "text": [
            "Conv1 Polysemanticity: [-0.23869926 -0.96686816 -0.12721044 -0.08401273 -0.10691293 -0.9567182 ]\n",
            "Conv2 Polysemanticity: [-1.086079   -1.1751949  -0.5869536  -0.8870102  -0.66193414 -0.89243674\n",
            " -1.2075353  -0.3008577  -0.7883178  -0.80624074 -1.7030694  -0.65105873\n",
            " -0.19822122 -0.74900436 -1.3225629  -0.9559894 ]\n"
          ]
        }
      ]
    },
    {
      "cell_type": "code",
      "source": [
        "#This code visualizes \n",
        "import matplotlib.pyplot as plt \n",
        "\n",
        "def visualize_polysemantic_neurons(layer, polysemanticity, num_neurons=1):\n",
        "    most_polysemantic_indices = polysemanticity.argsort()[-num_neurons:]\n",
        "    least_polysemantic_indices = polysemanticity.argsort()[:num_neurons]\n",
        "\n",
        "    activations = []\n",
        "\n",
        "    def hook(module, input, output):\n",
        "        activations.append(output)\n",
        "\n",
        "    hook_handle = layer.register_forward_hook(hook)\n",
        "\n",
        "    # Pass a batch of images through the network\n",
        "    with torch.no_grad():\n",
        "        images, _ = next(iter(test_loader))\n",
        "        images = images.to(device)\n",
        "        _ = net(images)\n",
        "\n",
        "    hook_handle.remove()\n",
        "\n",
        "    for idx, title in zip([most_polysemantic_indices, least_polysemantic_indices], ['Most', 'Least']):\n",
        "        if num_neurons > 1:\n",
        "            fig, axs = plt.subplots(1, num_neurons, figsize=(3 * num_neurons, 3))\n",
        "            for i, neuron_idx in enumerate(idx):\n",
        "                feature_map = activations[0][0, neuron_idx].cpu().numpy()\n",
        "                axs[i].imshow(feature_map, cmap='gray')\n",
        "                axs[i].axis('off')\n",
        "                axs[i].set_title(f'{title} Polysemantic Neuron {neuron_idx + 1}')\n",
        "        else:\n",
        "            fig, ax = plt.subplots(figsize=(3, 3))\n",
        "            neuron_idx = idx[0]\n",
        "            feature_map = activations[0][0, neuron_idx].cpu().numpy()\n",
        "            ax.imshow(feature_map, cmap='gray')\n",
        "            ax.axis('off')\n",
        "            ax.set_title(f'{title} Polysemantic Neuron {neuron_idx + 1}')\n",
        "        plt.show()\n",
        "\n",
        "# Visualize the most and least polysemantic neurons in conv1 and conv2\n",
        "visualize_polysemantic_neurons(net.conv1, conv1_polysemanticity)\n",
        "visualize_polysemantic_neurons(net.conv2, conv2_polysemanticity)\n"
      ],
      "metadata": {
        "colab": {
          "base_uri": "https://localhost:8080/",
          "height": 1000
        },
        "id": "QZfvFLShNjVG",
        "outputId": "294c8fb9-e5fb-4453-9fb7-b4cea3fd19f1"
      },
      "execution_count": null,
      "outputs": [
        {
          "output_type": "display_data",
          "data": {
            "text/plain": [
              "<Figure size 300x300 with 1 Axes>"
            ],
            "image/png": "[encoded data removed]"
          },
          "metadata": {}
        },
        {
          "output_type": "display_data",
          "data": {
            "text/plain": [
              "<Figure size 300x300 with 1 Axes>"
            ],
            "image/png": "[encoded data removed]"
          },
          "metadata": {}
        },
        {
          "output_type": "display_data",
          "data": {
            "text/plain": [
              "<Figure size 300x300 with 1 Axes>"
            ],
            "image/png": "[encoded data removed]"
          },
          "metadata": {}
        },
        {
          "output_type": "display_data",
          "data": {
            "text/plain": [
              "<Figure size 300x300 with 1 Axes>"
            ],
            "image/png": "[encoded data removed]"
          },
          "metadata": {}
        }
      ]
    },
    {
      "cell_type": "code",
      "source": [
        "import numpy as np\n",
        "import matplotlib.pyplot as plt\n",
        "\n",
        "def plot_monosemanticity(polysemanticity, num_thresholds=100):\n",
        "    thresholds = np.linspace(polysemanticity.min(), polysemanticity.max(), num_thresholds)\n",
        "    percentages = []\n",
        "\n",
        "    for threshold in thresholds:\n",
        "        monosemantic_neurons = np.sum(polysemanticity <= threshold)\n",
        "        percentage = (monosemantic_neurons / polysemanticity.size) * 100\n",
        "        percentages.append(percentage)\n",
        "\n",
        "    plt.plot(thresholds, percentages)\n",
        "    plt.xlabel('Monosemanticity Threshold')\n",
        "    plt.ylabel('% of Monosemantic Neurons')\n",
        "    plt.title('Monosemanticity Threshold vs. % of Monosemantic Neurons')\n",
        "    plt.grid()\n",
        "    plt.show()\n",
        "\n",
        "# Example usage with conv1_polysemanticity\n",
        "plot_monosemanticity(conv1_polysemanticity)\n",
        "\n",
        "plot_monosemanticity(conv2_polysemanticity)"
      ],
      "metadata": {
        "colab": {
          "base_uri": "https://localhost:8080/",
          "height": 927
        },
        "id": "Ae6SqCbLcWHh",
        "outputId": "beb18a2c-8ce6-46bf-9ccb-39a28a1adc66"
      },
      "execution_count": null,
      "outputs": [
        {
          "output_type": "display_data",
          "data": {
            "text/plain": [
              "<Figure size 640x480 with 1 Axes>"
            ],
            "image/png": "[encoded data removed]"
          },
          "metadata": {}
        },
        {
          "output_type": "display_data",
          "data": {
            "text/plain": [
              "<Figure size 640x480 with 1 Axes>"
            ],
            "image/png": "[encoded data removed]"
          },
          "metadata": {}
        }
      ]
    },
    {
      "cell_type": "code",
      "source": [
        "from PIL import Image\n",
        "from torchvision.transforms import ToTensor, Normalize\n",
        "\n",
        "def test_image(model, image_path, device):\n",
        "    # Load the image\n",
        "    img = Image.open(image_path)\n",
        "\n",
        "    # Apply the same transformations as for the validation dataset\n",
        "    transform = transforms.Compose([\n",
        "        transforms.Resize((32, 32)),\n",
        "        transforms.ToTensor(),\n",
        "        transforms.Normalize((0.5, 0.5, 0.5), (0.5, 0.5, 0.5))\n",
        "    ])\n",
        "    img_tensor = transform(img)\n",
        "    \n",
        "    # Add an extra dimension for the batch\n",
        "    img_tensor = img_tensor.unsqueeze(0)\n",
        "\n",
        "    # Move the tensor to the device (CPU or GPU)\n",
        "    img_tensor = img_tensor.to(device)\n",
        "    \n",
        "    # Pass the image through the model\n",
        "    model.eval()\n",
        "    with torch.no_grad():\n",
        "        output = model(img_tensor)\n",
        "        print(output)\n",
        "    # Get the predicted class\n",
        "    _, predicted = torch.max(output, 1)\n",
        "    predicted_class = predicted.item()\n",
        "\n",
        "    return predicted_class\n",
        "\n",
        "# Assuming the toy model is named 'net'\n",
        "net.eval()\n",
        "\n",
        "# Set the device\n",
        "device = 'cuda' if torch.cuda.is_available() else 'cpu'\n",
        "net.to(device)\n",
        "\n",
        "# Test the image\n",
        "image_path = \"/content/drive/MyDrive/Neuro140/FinalProject/Data/test/Dogs/n02105251_8543_jpg.rf.195df8cf088e29dc394f86917972dd53.jpg\"\n",
        "predicted_class = test_image(net, image_path, device)\n",
        "\n",
        "# Output the result\n",
        "class_names = [\"Cars\", \"Dogs\"]\n",
        "print(f\"Predicted class: {class_names[predicted_class]}\")"
      ],
      "metadata": {
        "colab": {
          "base_uri": "https://localhost:8080/"
        },
        "id": "YdxTVmDulMgO",
        "outputId": "4c0c77a1-87ef-4f33-c48e-87facb15c323"
      },
      "execution_count": null,
      "outputs": [
        {
          "output_type": "stream",
          "name": "stdout",
          "text": [
            "tensor([[-3.0360,  3.9572]])\n",
            "Predicted class: Dogs\n"
          ]
        }
      ]
    },
    {
      "cell_type": "code",
      "source": [
        "#Run a test over all data. Return % correct\n",
        "def test_nn(model, device, test_loader):\n",
        "    net.eval()\n",
        "    total = 0\n",
        "    correct = 0\n",
        "\n",
        "    with torch.no_grad():\n",
        "        for i, (inputs, labels) in enumerate(test_loader):\n",
        "            inputs, labels = inputs.to(device), labels.to(device)\n",
        "            total += labels.size(0)\n",
        "            if i%10 == 0:\n",
        "                print(f\"Iteration {i}: Labels: {labels}\")\n",
        "                print(str(labels.size(0)) + \" = labels, inputs = \" + str(inputs.size(0)))\n",
        "            outputs = model(inputs)\n",
        "            _, predicted = torch.max(outputs, 1)\n",
        "            correct += (predicted == labels).sum().item()\n",
        "\n",
        "\n",
        "    return correct/total    \n",
        "\n",
        "# Set the device\n",
        "device = 'cuda' if torch.cuda.is_available() else 'cpu'\n",
        "net.to(device)\n",
        "print(test_nn(net, device, test_loader))\n"
      ],
      "metadata": {
        "colab": {
          "base_uri": "https://localhost:8080/"
        },
        "id": "tIFscj5J_kWI",
        "outputId": "48c3214d-9f47-4c7a-ab64-00550b33faaf"
      },
      "execution_count": null,
      "outputs": [
        {
          "output_type": "stream",
          "name": "stdout",
          "text": [
            "Iteration 0: Labels: tensor([0, 0, 0, 0, 0, 0, 0, 0, 0, 0])\n",
            "10 = labels, inputs = 10\n",
            "Iteration 10: Labels: tensor([1, 1, 1, 1, 1, 1, 1, 1, 1, 1])\n",
            "10 = labels, inputs = 10\n",
            "Iteration 20: Labels: tensor([1, 1, 1, 1, 1, 1, 1, 1, 1, 1])\n",
            "10 = labels, inputs = 10\n",
            "Iteration 30: Labels: tensor([1, 1, 1, 1, 1, 1, 1, 1, 1, 1])\n",
            "10 = labels, inputs = 10\n",
            "Iteration 40: Labels: tensor([1, 1, 1, 1, 1, 1, 1, 1, 1, 1])\n",
            "10 = labels, inputs = 10\n",
            "Iteration 50: Labels: tensor([1, 1, 1, 1, 1, 1, 1, 1, 1, 1])\n",
            "10 = labels, inputs = 10\n",
            "Iteration 60: Labels: tensor([1, 1, 1, 1, 1, 1, 1, 1, 1, 1])\n",
            "10 = labels, inputs = 10\n",
            "Iteration 70: Labels: tensor([1, 1, 1, 1, 1, 1, 1, 1, 1, 1])\n",
            "10 = labels, inputs = 10\n",
            "Iteration 80: Labels: tensor([1, 1, 1, 1, 1, 1, 1, 1, 1, 1])\n",
            "10 = labels, inputs = 10\n",
            "0.9508379888268157\n"
          ]
        }
      ]
    },
    {
      "cell_type": "code",
      "source": [
        "transform = transforms.Compose([\n",
        "    transforms.RandomHorizontalFlip(),\n",
        "    transforms.RandomCrop(32, padding=4),\n",
        "    transforms.ToTensor(),\n",
        "    transforms.Normalize((0.5, 0.5, 0.5), (0.5, 0.5, 0.5))\n",
        "])\n",
        "\n",
        "#Test with CIFAR10\n",
        "\n",
        "trainset = torchvision.datasets.CIFAR10(root='./data', train=True, download=True, transform=transform)\n",
        "trainloader = torch.utils.data.DataLoader(trainset, batch_size=100, shuffle=True, num_workers=2)\n",
        "\n",
        "testset = torchvision.datasets.CIFAR10(root='./data', train=False, download=True, transform=transform)\n",
        "testloader = torch.utils.data.DataLoader(testset, batch_size=100, shuffle=False, num_workers=2)\n"
      ],
      "metadata": {
        "colab": {
          "base_uri": "https://localhost:8080/"
        },
        "id": "zgmhSYJ7MMQ5",
        "outputId": "4469f6ec-039d-4430-ddb5-00492d4e79a1"
      },
      "execution_count": null,
      "outputs": [
        {
          "output_type": "stream",
          "name": "stdout",
          "text": [
            "Files already downloaded and verified\n",
            "Files already downloaded and verified\n"
          ]
        }
      ]
    },
    {
      "cell_type": "code",
      "source": [
        "from google.colab import drive\n",
        "drive.mount('/content/drive')\n",
        "\n",
        "from torchvision.datasets import ImageFolder\n",
        "from torch.utils.data import DataLoader\n",
        "\n",
        "data_dir = \"/content/drive/MyDrive/Neuro140/FinalProject/TestData/\"\n",
        "\n",
        "train_transform = transforms.Compose([\n",
        "    transforms.RandomHorizontalFlip(),\n",
        "    transforms.RandomCrop(32, padding=4),\n",
        "    transforms.ToTensor(),\n",
        "    transforms.Normalize((0.5, 0.5, 0.5), (0.5, 0.5, 0.5))\n",
        "])\n",
        "\n",
        "val_transform = transforms.Compose([\n",
        "    transforms.ToTensor(),\n",
        "    transforms.Normalize((0.5, 0.5, 0.5), (0.5, 0.5, 0.5))\n",
        "])\n",
        "\n",
        "num_classes = 2\n",
        "\n",
        "#train_dogs = ImageFolder(data_dir + \"Dogs/Train\", transform=train_transform)\n",
        "train_data = ImageFolder(data_dir + \"Train\", transform=train_transform)\n",
        "#train_data = torch.utils.data.ConcatDataset([train_dogs, train_cars])\n",
        "trainloader = DataLoader(train_data, batch_size=100, shuffle=True, num_workers=2)\n",
        "\n",
        "#val_dogs = ImageFolder(data_dir + \"Dogs/Val\", transform=val_transform)\n",
        "val_data = ImageFolder(data_dir + \"Valid\", transform=val_transform)\n",
        "#val_data = torch.utils.data.ConcatDataset([val_dogs, val_cars])\n",
        "valloader = DataLoader(val_data, batch_size=100, shuffle=True, num_workers=2)\n"
      ],
      "metadata": {
        "colab": {
          "base_uri": "https://localhost:8080/"
        },
        "id": "kfFbO9umQhuI",
        "outputId": "c1d13fb2-1a34-40e5-8e63-a39f9edd0fac"
      },
      "execution_count": null,
      "outputs": [
        {
          "output_type": "stream",
          "name": "stdout",
          "text": [
            "Drive already mounted at /content/drive; to attempt to forcibly remount, call drive.mount(\"/content/drive\", force_remount=True).\n"
          ]
        }
      ]
    }
  ]
}